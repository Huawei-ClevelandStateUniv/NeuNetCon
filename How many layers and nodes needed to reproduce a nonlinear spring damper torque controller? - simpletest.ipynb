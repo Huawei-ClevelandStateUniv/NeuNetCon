{
 "cells": [
  {
   "cell_type": "markdown",
   "metadata": {},
   "source": [
    "This code is to test how many hidden layers and hidden nodes could achieve\n",
    "the nonlinear spring damper property of torque controller.\n",
    "\n",
    "Feb. 07, 2018  \n",
    "Huawei Wang"
   ]
  },
  {
   "cell_type": "code",
   "execution_count": 1,
   "metadata": {
    "collapsed": false
   },
   "outputs": [],
   "source": [
    "import plotly\n",
    "plotly.tools.set_credentials_file(username='HuaweiWang', api_key='u3JPHaMgbggGVFml1yUd')"
   ]
  },
  {
   "cell_type": "code",
   "execution_count": 2,
   "metadata": {
    "collapsed": false
   },
   "outputs": [],
   "source": [
    "import plotly.plotly as py\n",
    "import plotly.graph_objs as go\n",
    "import numpy as np"
   ]
  },
  {
   "cell_type": "code",
   "execution_count": 3,
   "metadata": {
    "collapsed": true
   },
   "outputs": [],
   "source": [
    "num_nodes = 5001\n",
    "duration = 100.0"
   ]
  },
  {
   "cell_type": "code",
   "execution_count": 4,
   "metadata": {
    "collapsed": true
   },
   "outputs": [],
   "source": [
    "Inputs = 1 - 2*np.random.random( num_nodes)\n",
    "Outputs = np.zeros( num_nodes)\n",
    "time = np.linspace(0, duration, num_nodes)\n"
   ]
  },
  {
   "cell_type": "code",
   "execution_count": 5,
   "metadata": {
    "collapsed": false
   },
   "outputs": [],
   "source": [
    "K0 = 100"
   ]
  },
  {
   "cell_type": "code",
   "execution_count": 7,
   "metadata": {
    "collapsed": false
   },
   "outputs": [],
   "source": [
    "K0 = 100\n",
    "Ks = 5000\n",
    "Outputs = (K0 + Ks*abs(Inputs)**3)*Inputs"
   ]
  },
  {
   "cell_type": "code",
   "execution_count": 9,
   "metadata": {
    "collapsed": false
   },
   "outputs": [
    {
     "data": {
      "text/plain": [
       "(5001,)"
      ]
     },
     "execution_count": 9,
     "metadata": {},
     "output_type": "execute_result"
    }
   ],
   "source": [
    "Outputs.shape"
   ]
  },
  {
   "cell_type": "code",
   "execution_count": 10,
   "metadata": {
    "collapsed": false
   },
   "outputs": [],
   "source": [
    "np.random.seed()\n",
    "Test_inp = 1 - 2*np.random.random(num_nodes)\n",
    "\n",
    "Test_out = (K0 + Ks*abs(Test_inp)**3)*Test_inp"
   ]
  },
  {
   "cell_type": "code",
   "execution_count": 11,
   "metadata": {
    "collapsed": false
   },
   "outputs": [],
   "source": [
    "trace1 = go.Scatter(\n",
    "    x = Inputs,\n",
    "    y = Outputs/((abs(Outputs)).max()),\n",
    "    mode = 'markers'\n",
    ")\n",
    "\n",
    "trace2 = go.Scatter(\n",
    "    x = Test_inp,\n",
    "    y = Test_out/((abs(Outputs)).max()),\n",
    "    mode = 'markers'\n",
    ")\n",
    "\n",
    "data = [trace1, trace2]\n",
    "fig = go.Figure(data=data)"
   ]
  },
  {
   "cell_type": "code",
   "execution_count": 12,
   "metadata": {
    "collapsed": false
   },
   "outputs": [
    {
     "data": {
      "text/html": [
       "<iframe id=\"igraph\" scrolling=\"no\" style=\"border:none;\" seamless=\"seamless\" src=\"https://plot.ly/~HuaweiWang/2.embed\" height=\"525px\" width=\"100%\"></iframe>"
      ],
      "text/plain": [
       "<plotly.tools.PlotlyDisplay object>"
      ]
     },
     "execution_count": 12,
     "metadata": {},
     "output_type": "execute_result"
    }
   ],
   "source": [
    "py.iplot(fig, filename='torques')"
   ]
  },
  {
   "cell_type": "code",
   "execution_count": 118,
   "metadata": {
    "collapsed": false
   },
   "outputs": [],
   "source": [
    "from sklearn.model_selection import train_test_split\n",
    "from keras.models import Sequential"
   ]
  },
  {
   "cell_type": "code",
   "execution_count": 130,
   "metadata": {
    "collapsed": true
   },
   "outputs": [],
   "source": [
    "from keras.layers import Dense, Activation\n",
    "import keras\n",
    "from keras.callbacks import EarlyStopping"
   ]
  },
  {
   "cell_type": "code",
   "execution_count": 131,
   "metadata": {
    "collapsed": false
   },
   "outputs": [],
   "source": [
    "# Initialize the constructor\n",
    "model = Sequential()\n",
    "act = keras.layers.advanced_activations.LeakyReLU(alpha=0.3)"
   ]
  },
  {
   "cell_type": "code",
   "execution_count": 132,
   "metadata": {
    "collapsed": false
   },
   "outputs": [],
   "source": [
    "# Add an input layer \n",
    "model.add(Dense(4, input_shape=(1,)))\n",
    "model.add(Activation(act))\n",
    "# Add hidden layer\n",
    "model.add(Dense(4))\n",
    "model.add(Activation(act))\n",
    "# Add hidden layer\n",
    "model.add(Dense(4,))\n",
    "model.add(Activation(act))\n",
    "# Add hidden layer\n",
    "model.add(Dense(4))\n",
    "model.add(Activation(act))\n",
    "# Add Output layer \n",
    "model.add(Dense(1, activation='linear'))"
   ]
  },
  {
   "cell_type": "code",
   "execution_count": 133,
   "metadata": {
    "collapsed": false
   },
   "outputs": [],
   "source": [
    "model.compile(loss = 'mean_squared_error', optimizer = 'sgd')"
   ]
  },
  {
   "cell_type": "code",
   "execution_count": 136,
   "metadata": {
    "collapsed": false
   },
   "outputs": [],
   "source": [
    "StopCond = [\n",
    "    EarlyStopping(monitor='loss', patience=10, verbose=0),\n",
    "]"
   ]
  },
  {
   "cell_type": "code",
   "execution_count": 169,
   "metadata": {
    "collapsed": false
   },
   "outputs": [
    {
     "name": "stdout",
     "output_type": "stream",
     "text": [
      "Epoch 1/10\n",
      "5001/5001 [==============================] - 0s 9us/step - loss: 1.3942e-04\n",
      "Epoch 2/10\n",
      "5001/5001 [==============================] - 0s 8us/step - loss: 1.4285e-04\n",
      "Epoch 3/10\n",
      "5001/5001 [==============================] - 0s 8us/step - loss: 1.3862e-04\n",
      "Epoch 4/10\n",
      "5001/5001 [==============================] - 0s 8us/step - loss: 2.1515e-04\n",
      "Epoch 5/10\n",
      "5001/5001 [==============================] - 0s 9us/step - loss: 1.3839e-04\n",
      "Epoch 6/10\n",
      "5001/5001 [==============================] - 0s 8us/step - loss: 1.3875e-04\n",
      "Epoch 7/10\n",
      "5001/5001 [==============================] - 0s 10us/step - loss: 1.3792e-04\n",
      "Epoch 8/10\n",
      "5001/5001 [==============================] - 0s 8us/step - loss: 1.3815e-04\n",
      "Epoch 9/10\n",
      "5001/5001 [==============================] - 0s 8us/step - loss: 1.3767e-04\n",
      "Epoch 10/10\n",
      "5001/5001 [==============================] - 0s 9us/step - loss: 1.4235e-04\n"
     ]
    }
   ],
   "source": [
    "for k in range(1):\n",
    "    model.fit(Inputs.T, Outputs.T/(abs(Outputs).max()), epochs = 10, batch_size = 500, callbacks = StopCond)"
   ]
  },
  {
   "cell_type": "code",
   "execution_count": 170,
   "metadata": {
    "collapsed": false
   },
   "outputs": [
    {
     "name": "stdout",
     "output_type": "stream",
     "text": [
      "5001/5001 [==============================] - 0s 6us/step\n"
     ]
    }
   ],
   "source": [
    "score = model.evaluate(Test_inp.T, Test_out.T/(abs(Outputs).max()), batch_size = 500)"
   ]
  },
  {
   "cell_type": "code",
   "execution_count": 171,
   "metadata": {
    "collapsed": false
   },
   "outputs": [
    {
     "data": {
      "text/plain": [
       "0.00014902508238266637"
      ]
     },
     "execution_count": 171,
     "metadata": {},
     "output_type": "execute_result"
    }
   ],
   "source": [
    "score"
   ]
  },
  {
   "cell_type": "code",
   "execution_count": 172,
   "metadata": {
    "collapsed": false
   },
   "outputs": [
    {
     "data": {
      "text/plain": [
       "0.99834402917019593"
      ]
     },
     "execution_count": 172,
     "metadata": {},
     "output_type": "execute_result"
    }
   ],
   "source": [
    "(abs(Inputs).max().max())"
   ]
  },
  {
   "cell_type": "code",
   "execution_count": 173,
   "metadata": {
    "collapsed": false
   },
   "outputs": [],
   "source": [
    "predictions = model.predict(Test_inp.T)"
   ]
  },
  {
   "cell_type": "code",
   "execution_count": 174,
   "metadata": {
    "collapsed": false
   },
   "outputs": [],
   "source": [
    "trace7 = go.Scatter(\n",
    "    x = Test_inp,\n",
    "    y = Test_out/(abs(Outputs).max()),\n",
    "    mode = 'markers'\n",
    ")\n",
    "\n",
    "trace8 = go.Scatter(\n",
    "    x = Test_inp,\n",
    "    y = predictions[:, 0],\n",
    "    mode = 'markers'\n",
    ")\n",
    "\n",
    "\n",
    "data2 = [trace7, trace8]\n",
    "fig2 = go.Figure(data=data2)"
   ]
  },
  {
   "cell_type": "code",
   "execution_count": 175,
   "metadata": {
    "collapsed": false
   },
   "outputs": [
    {
     "data": {
      "text/plain": [
       "(5001,)"
      ]
     },
     "execution_count": 175,
     "metadata": {},
     "output_type": "execute_result"
    }
   ],
   "source": [
    "Test_inp.shape"
   ]
  },
  {
   "cell_type": "code",
   "execution_count": 176,
   "metadata": {
    "collapsed": false
   },
   "outputs": [
    {
     "data": {
      "text/plain": [
       "(5001, 1)"
      ]
     },
     "execution_count": 176,
     "metadata": {},
     "output_type": "execute_result"
    }
   ],
   "source": [
    "predictions.shape"
   ]
  },
  {
   "cell_type": "code",
   "execution_count": 177,
   "metadata": {
    "collapsed": false
   },
   "outputs": [
    {
     "data": {
      "text/html": [
       "<iframe id=\"igraph\" scrolling=\"no\" style=\"border:none;\" seamless=\"seamless\" src=\"https://plot.ly/~HuaweiWang/6.embed\" height=\"525px\" width=\"100%\"></iframe>"
      ],
      "text/plain": [
       "<plotly.tools.PlotlyDisplay object>"
      ]
     },
     "execution_count": 177,
     "metadata": {},
     "output_type": "execute_result"
    }
   ],
   "source": [
    "py.iplot(fig2, filename='fit_test')"
   ]
  },
  {
   "cell_type": "code",
   "execution_count": null,
   "metadata": {
    "collapsed": true
   },
   "outputs": [],
   "source": []
  }
 ],
 "metadata": {
  "kernelspec": {
   "display_name": "Python 2",
   "language": "python",
   "name": "python2"
  },
  "language_info": {
   "codemirror_mode": {
    "name": "ipython",
    "version": 2
   },
   "file_extension": ".py",
   "mimetype": "text/x-python",
   "name": "python",
   "nbconvert_exporter": "python",
   "pygments_lexer": "ipython2",
   "version": "2.7.12"
  }
 },
 "nbformat": 4,
 "nbformat_minor": 2
}
